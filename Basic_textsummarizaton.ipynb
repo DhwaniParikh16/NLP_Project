{
  "nbformat": 4,
  "nbformat_minor": 0,
  "metadata": {
    "colab": {
      "name": "Basic_textsummarizaton.ipynb",
      "provenance": [],
      "collapsed_sections": [],
      "authorship_tag": "ABX9TyN/9ZrrCBYPRn6ebW6yfqpu",
      "include_colab_link": true
    },
    "kernelspec": {
      "name": "python3",
      "display_name": "Python 3"
    }
  },
  "cells": [
    {
      "cell_type": "markdown",
      "metadata": {
        "id": "view-in-github",
        "colab_type": "text"
      },
      "source": [
        "<a href=\"https://colab.research.google.com/github/DhwaniParikh16/NLP_Project/blob/main/Basic_textsummarizaton.ipynb\" target=\"_parent\"><img src=\"https://colab.research.google.com/assets/colab-badge.svg\" alt=\"Open In Colab\"/></a>"
      ]
    },
    {
      "cell_type": "code",
      "metadata": {
        "colab": {
          "base_uri": "https://localhost:8080/"
        },
        "id": "cgcs_f8ObX7B",
        "outputId": "ba003016-af03-496c-9ee3-eb99512733e8"
      },
      "source": [
        "\r\n",
        "text = \"\"\"\r\n",
        "Written informed consent for all study procedures according to local regulatory requirements prior to beginning specific protocol procedures.Complete baseline documentation must be submitted via the web-based data collection system MedCODES to the GBG Forschungs GmbH.Diagnosis of locally advanced or metastatic hormone-sensitive or insensitive, HER2-negative or -positive breast cancer.Relapse within ≤ 12 months after completing (last day of last cycle) (neo-) adjuvant chemotherapy.Documented relapse of either a measurable or a non-measurable lesion according to the modified RECIST criteria.Previous neoadjuvant or adjuvant treatment with a solvent based taxane (paclitaxel or docetaxel) irrespective of dose and duration.Prior endocrine treatment for metastatic / advanced disease is allowed.Complete radiological and clinical tumor assessment within 4 weeks prior to registration performed as clinically indicated.Age ≥ 18 years.ECOG Performance Status ≤ 2 (irrespective of restrictions due to breast cancer).Laboratory requirements:Absolute neutrophil count (ANC) >= 1.5 x 109/L., Platelets >= 100 x 109/L., Hemoglobin >= 9 g/dL (>= 5.6 mmol/L)., Prothrombin time (PT) or international normalized ratio (INR) <= 1.2x ULN (upper normal limit), Partial thromboplastin time (PTT) <= 1.2x ULN, Total bilirubin < 1.5x ULN, ASAT (SGOT) and ALAT (SGPT) <= 2.5x ULN (concomitant elevations in serum bilirubin and ASAT/ALAT above 1.0x ULN are not permitted), Creatinine clearance >= 50 mL/min), Urine Protein to Creatinine Ratio (UPC) < 1 (if UPC >= 1, then 24-hour urine protein must be < 1 g).Normal cardiac function confirmed by ECG.A female either of: 1) Non-childbearing potential, i.e. physiologically incapable of becoming pregnant because of history of hysterectomy, bilateral oophorectomy (ovariectomy), bilateral tubal ligation or postmenopausal status. Childbearing potential with a negative pregnancy test (urine or serum)within 2 weeks prior to registration, preferably as close to the first dose as possible, and agrees to use adequate contraception.\"\"\"\r\n",
        "\r\n",
        "\r\n",
        "import spacy\r\n",
        "from spacy.lang.en.stop_words import STOP_WORDS\r\n",
        "from string import punctuation\r\n",
        "\r\n",
        "stopwords = list(STOP_WORDS)\r\n",
        "nlp = spacy.load('en_core_web_sm')\r\n",
        "doc = nlp(text)\r\n",
        "tokens = [token.text for token in doc]\r\n",
        "print(tokens)"
      ],
      "execution_count": null,
      "outputs": [
        {
          "output_type": "stream",
          "text": [
            "['\\n', 'Written', 'informed', 'consent', 'for', 'all', 'study', 'procedures', 'according', 'to', 'local', 'regulatory', 'requirements', 'prior', 'to', 'beginning', 'specific', 'protocol', 'procedures', '.', 'Complete', 'baseline', 'documentation', 'must', 'be', 'submitted', 'via', 'the', 'web', '-', 'based', 'data', 'collection', 'system', 'MedCODES', 'to', 'the', 'GBG', 'Forschungs', 'GmbH.Diagnosis', 'of', 'locally', 'advanced', 'or', 'metastatic', 'hormone', '-', 'sensitive', 'or', 'insensitive', ',', 'HER2-negative', 'or', '-positive', 'breast', 'cancer', '.', 'Relapse', 'within', '≤', '12', 'months', 'after', 'completing', '(', 'last', 'day', 'of', 'last', 'cycle', ')', '(', 'neo-', ')', 'adjuvant', 'chemotherapy', '.', 'Documented', 'relapse', 'of', 'either', 'a', 'measurable', 'or', 'a', 'non', '-', 'measurable', 'lesion', 'according', 'to', 'the', 'modified', 'RECIST', 'criteria', '.', 'Previous', 'neoadjuvant', 'or', 'adjuvant', 'treatment', 'with', 'a', 'solvent', 'based', 'taxane', '(', 'paclitaxel', 'or', 'docetaxel', ')', 'irrespective', 'of', 'dose', 'and', 'duration', '.', 'Prior', 'endocrine', 'treatment', 'for', 'metastatic', '/', 'advanced', 'disease', 'is', 'allowed', '.', 'Complete', 'radiological', 'and', 'clinical', 'tumor', 'assessment', 'within', '4', 'weeks', 'prior', 'to', 'registration', 'performed', 'as', 'clinically', 'indicated', '.', 'Age', '≥', '18', 'years', '.', 'ECOG', 'Performance', 'Status', '≤', '2', '(', 'irrespective', 'of', 'restrictions', 'due', 'to', 'breast', 'cancer).Laboratory', 'requirements', ':', 'Absolute', 'neutrophil', 'count', '(', 'ANC', ')', '>', '=', '1.5', 'x', '109', '/', 'L.', ',', 'Platelets', '>', '=', '100', 'x', '109', '/', 'L.', ',', 'Hemoglobin', '>', '=', '9', 'g', '/', 'dL', '(', '>', '=', '5.6', 'mmol', '/', 'L', ')', '.', ',', 'Prothrombin', 'time', '(', 'PT', ')', 'or', 'international', 'normalized', 'ratio', '(', 'INR', ')', '<', '=', '1.2x', 'ULN', '(', 'upper', 'normal', 'limit', ')', ',', 'Partial', 'thromboplastin', 'time', '(', 'PTT', ')', '<', '=', '1.2x', 'ULN', ',', 'Total', 'bilirubin', '<', '1.5x', 'ULN', ',', 'ASAT', '(', 'SGOT', ')', 'and', 'ALAT', '(', 'SGPT', ')', '<', '=', '2.5x', 'ULN', '(', 'concomitant', 'elevations', 'in', 'serum', 'bilirubin', 'and', 'ASAT', '/', 'ALAT', 'above', '1.0x', 'ULN', 'are', 'not', 'permitted', ')', ',', 'Creatinine', 'clearance', '>', '=', '50', 'mL', '/', 'min', ')', ',', 'Urine', 'Protein', 'to', 'Creatinine', 'Ratio', '(', 'UPC', ')', '<', '1', '(', 'if', 'UPC', '>', '=', '1', ',', 'then', '24-hour', 'urine', 'protein', 'must', 'be', '<', '1', 'g).Normal', 'cardiac', 'function', 'confirmed', 'by', 'ECG.A', 'female', 'either', 'of', ':', '1', ')', 'Non', '-', 'childbearing', 'potential', ',', 'i.e.', 'physiologically', 'incapable', 'of', 'becoming', 'pregnant', 'because', 'of', 'history', 'of', 'hysterectomy', ',', 'bilateral', 'oophorectomy', '(', 'ovariectomy', ')', ',', 'bilateral', 'tubal', 'ligation', 'or', 'postmenopausal', 'status', '.', 'Childbearing', 'potential', 'with', 'a', 'negative', 'pregnancy', 'test', '(', 'urine', 'or', 'serum)within', '2', 'weeks', 'prior', 'to', 'registration', ',', 'preferably', 'as', 'close', 'to', 'the', 'first', 'dose', 'as', 'possible', ',', 'and', 'agrees', 'to', 'use', 'adequate', 'contraception', '.']\n"
          ],
          "name": "stdout"
        }
      ]
    },
    {
      "cell_type": "code",
      "metadata": {
        "colab": {
          "base_uri": "https://localhost:8080/",
          "height": 35
        },
        "id": "a8Qcx2-Db7Fh",
        "outputId": "ceae020a-bb47-4f46-a4cb-6014d8d505bd"
      },
      "source": [
        "punctuation = punctuation + '\\n'\r\n",
        "punctuation"
      ],
      "execution_count": null,
      "outputs": [
        {
          "output_type": "execute_result",
          "data": {
            "application/vnd.google.colaboratory.intrinsic+json": {
              "type": "string"
            },
            "text/plain": [
              "'!\"#$%&\\'()*+,-./:;<=>?@[\\\\]^_`{|}~\\n\\n'"
            ]
          },
          "metadata": {
            "tags": []
          },
          "execution_count": 18
        }
      ]
    },
    {
      "cell_type": "code",
      "metadata": {
        "colab": {
          "base_uri": "https://localhost:8080/"
        },
        "id": "PLZAOG0IcF_O",
        "outputId": "c68ccce7-7b5f-43be-8bae-8afa6b29d8f0"
      },
      "source": [
        "word_frequencies = {}\r\n",
        "for word in doc:\r\n",
        "    if word.text.lower() not in stopwords:\r\n",
        "        if word.text.lower() not in punctuation:\r\n",
        "            if word.text not in word_frequencies.keys():\r\n",
        "                word_frequencies[word.text] = 1\r\n",
        "            else:\r\n",
        "                word_frequencies[word.text] += 1\r\n",
        "                \r\n",
        "print(word_frequencies)"
      ],
      "execution_count": null,
      "outputs": [
        {
          "output_type": "stream",
          "text": [
            "{'Written': 1, 'informed': 1, 'consent': 1, 'study': 1, 'procedures': 2, 'according': 2, 'local': 1, 'regulatory': 1, 'requirements': 2, 'prior': 3, 'beginning': 1, 'specific': 1, 'protocol': 1, 'Complete': 2, 'baseline': 1, 'documentation': 1, 'submitted': 1, 'web': 1, 'based': 2, 'data': 1, 'collection': 1, 'system': 1, 'MedCODES': 1, 'GBG': 1, 'Forschungs': 1, 'GmbH.Diagnosis': 1, 'locally': 1, 'advanced': 2, 'metastatic': 2, 'hormone': 1, 'sensitive': 1, 'insensitive': 1, 'HER2-negative': 1, '-positive': 1, 'breast': 2, 'cancer': 1, 'Relapse': 1, '≤': 2, '12': 1, 'months': 1, 'completing': 1, 'day': 1, 'cycle': 1, 'neo-': 1, 'adjuvant': 2, 'chemotherapy': 1, 'Documented': 1, 'relapse': 1, 'measurable': 2, 'non': 1, 'lesion': 1, 'modified': 1, 'RECIST': 1, 'criteria': 1, 'Previous': 1, 'neoadjuvant': 1, 'treatment': 2, 'solvent': 1, 'taxane': 1, 'paclitaxel': 1, 'docetaxel': 1, 'irrespective': 2, 'dose': 2, 'duration': 1, 'Prior': 1, 'endocrine': 1, 'disease': 1, 'allowed': 1, 'radiological': 1, 'clinical': 1, 'tumor': 1, 'assessment': 1, '4': 1, 'weeks': 2, 'registration': 2, 'performed': 1, 'clinically': 1, 'indicated': 1, 'Age': 1, '≥': 1, '18': 1, 'years': 1, 'ECOG': 1, 'Performance': 1, 'Status': 1, '2': 2, 'restrictions': 1, 'cancer).Laboratory': 1, 'Absolute': 1, 'neutrophil': 1, 'count': 1, 'ANC': 1, '1.5': 1, 'x': 2, '109': 2, 'L.': 2, 'Platelets': 1, '100': 1, 'Hemoglobin': 1, '9': 1, 'g': 1, 'dL': 1, '5.6': 1, 'mmol': 1, 'L': 1, 'Prothrombin': 1, 'time': 2, 'PT': 1, 'international': 1, 'normalized': 1, 'ratio': 1, 'INR': 1, '1.2x': 2, 'ULN': 5, 'upper': 1, 'normal': 1, 'limit': 1, 'Partial': 1, 'thromboplastin': 1, 'PTT': 1, 'Total': 1, 'bilirubin': 2, '1.5x': 1, 'ASAT': 2, 'SGOT': 1, 'ALAT': 2, 'SGPT': 1, '2.5x': 1, 'concomitant': 1, 'elevations': 1, 'serum': 1, '1.0x': 1, 'permitted': 1, 'Creatinine': 2, 'clearance': 1, '50': 1, 'mL': 1, 'min': 1, 'Urine': 1, 'Protein': 1, 'Ratio': 1, 'UPC': 2, '1': 4, '24-hour': 1, 'urine': 2, 'protein': 1, 'g).Normal': 1, 'cardiac': 1, 'function': 1, 'confirmed': 1, 'ECG.A': 1, 'female': 1, 'Non': 1, 'childbearing': 1, 'potential': 2, 'i.e.': 1, 'physiologically': 1, 'incapable': 1, 'pregnant': 1, 'history': 1, 'hysterectomy': 1, 'bilateral': 2, 'oophorectomy': 1, 'ovariectomy': 1, 'tubal': 1, 'ligation': 1, 'postmenopausal': 1, 'status': 1, 'Childbearing': 1, 'negative': 1, 'pregnancy': 1, 'test': 1, 'serum)within': 1, 'preferably': 1, 'close': 1, 'possible': 1, 'agrees': 1, 'use': 1, 'adequate': 1, 'contraception': 1}\n"
          ],
          "name": "stdout"
        }
      ]
    },
    {
      "cell_type": "code",
      "metadata": {
        "colab": {
          "base_uri": "https://localhost:8080/"
        },
        "id": "mRDqdARGciMp",
        "outputId": "b334f59f-63fe-46ca-9e00-1e079f49b1cc"
      },
      "source": [
        "max_frequency = max(word_frequencies.values())\r\n",
        "max_frequency"
      ],
      "execution_count": null,
      "outputs": [
        {
          "output_type": "execute_result",
          "data": {
            "text/plain": [
              "5"
            ]
          },
          "metadata": {
            "tags": []
          },
          "execution_count": 20
        }
      ]
    },
    {
      "cell_type": "code",
      "metadata": {
        "colab": {
          "base_uri": "https://localhost:8080/"
        },
        "id": "SHG2AwSvcMPu",
        "outputId": "e4fbc515-1a54-4fbe-efc4-c62971a5e3c6"
      },
      "source": [
        "for word in word_frequencies.keys():\r\n",
        "    word_frequencies[word] = word_frequencies[word]/max_frequency\r\n",
        "\r\n",
        "print(word_frequencies)"
      ],
      "execution_count": null,
      "outputs": [
        {
          "output_type": "stream",
          "text": [
            "{'Written': 0.2, 'informed': 0.2, 'consent': 0.2, 'study': 0.2, 'procedures': 0.4, 'according': 0.4, 'local': 0.2, 'regulatory': 0.2, 'requirements': 0.4, 'prior': 0.6, 'beginning': 0.2, 'specific': 0.2, 'protocol': 0.2, 'Complete': 0.4, 'baseline': 0.2, 'documentation': 0.2, 'submitted': 0.2, 'web': 0.2, 'based': 0.4, 'data': 0.2, 'collection': 0.2, 'system': 0.2, 'MedCODES': 0.2, 'GBG': 0.2, 'Forschungs': 0.2, 'GmbH.Diagnosis': 0.2, 'locally': 0.2, 'advanced': 0.4, 'metastatic': 0.4, 'hormone': 0.2, 'sensitive': 0.2, 'insensitive': 0.2, 'HER2-negative': 0.2, '-positive': 0.2, 'breast': 0.4, 'cancer': 0.2, 'Relapse': 0.2, '≤': 0.4, '12': 0.2, 'months': 0.2, 'completing': 0.2, 'day': 0.2, 'cycle': 0.2, 'neo-': 0.2, 'adjuvant': 0.4, 'chemotherapy': 0.2, 'Documented': 0.2, 'relapse': 0.2, 'measurable': 0.4, 'non': 0.2, 'lesion': 0.2, 'modified': 0.2, 'RECIST': 0.2, 'criteria': 0.2, 'Previous': 0.2, 'neoadjuvant': 0.2, 'treatment': 0.4, 'solvent': 0.2, 'taxane': 0.2, 'paclitaxel': 0.2, 'docetaxel': 0.2, 'irrespective': 0.4, 'dose': 0.4, 'duration': 0.2, 'Prior': 0.2, 'endocrine': 0.2, 'disease': 0.2, 'allowed': 0.2, 'radiological': 0.2, 'clinical': 0.2, 'tumor': 0.2, 'assessment': 0.2, '4': 0.2, 'weeks': 0.4, 'registration': 0.4, 'performed': 0.2, 'clinically': 0.2, 'indicated': 0.2, 'Age': 0.2, '≥': 0.2, '18': 0.2, 'years': 0.2, 'ECOG': 0.2, 'Performance': 0.2, 'Status': 0.2, '2': 0.4, 'restrictions': 0.2, 'cancer).Laboratory': 0.2, 'Absolute': 0.2, 'neutrophil': 0.2, 'count': 0.2, 'ANC': 0.2, '1.5': 0.2, 'x': 0.4, '109': 0.4, 'L.': 0.4, 'Platelets': 0.2, '100': 0.2, 'Hemoglobin': 0.2, '9': 0.2, 'g': 0.2, 'dL': 0.2, '5.6': 0.2, 'mmol': 0.2, 'L': 0.2, 'Prothrombin': 0.2, 'time': 0.4, 'PT': 0.2, 'international': 0.2, 'normalized': 0.2, 'ratio': 0.2, 'INR': 0.2, '1.2x': 0.4, 'ULN': 1.0, 'upper': 0.2, 'normal': 0.2, 'limit': 0.2, 'Partial': 0.2, 'thromboplastin': 0.2, 'PTT': 0.2, 'Total': 0.2, 'bilirubin': 0.4, '1.5x': 0.2, 'ASAT': 0.4, 'SGOT': 0.2, 'ALAT': 0.4, 'SGPT': 0.2, '2.5x': 0.2, 'concomitant': 0.2, 'elevations': 0.2, 'serum': 0.2, '1.0x': 0.2, 'permitted': 0.2, 'Creatinine': 0.4, 'clearance': 0.2, '50': 0.2, 'mL': 0.2, 'min': 0.2, 'Urine': 0.2, 'Protein': 0.2, 'Ratio': 0.2, 'UPC': 0.4, '1': 0.8, '24-hour': 0.2, 'urine': 0.4, 'protein': 0.2, 'g).Normal': 0.2, 'cardiac': 0.2, 'function': 0.2, 'confirmed': 0.2, 'ECG.A': 0.2, 'female': 0.2, 'Non': 0.2, 'childbearing': 0.2, 'potential': 0.4, 'i.e.': 0.2, 'physiologically': 0.2, 'incapable': 0.2, 'pregnant': 0.2, 'history': 0.2, 'hysterectomy': 0.2, 'bilateral': 0.4, 'oophorectomy': 0.2, 'ovariectomy': 0.2, 'tubal': 0.2, 'ligation': 0.2, 'postmenopausal': 0.2, 'status': 0.2, 'Childbearing': 0.2, 'negative': 0.2, 'pregnancy': 0.2, 'test': 0.2, 'serum)within': 0.2, 'preferably': 0.2, 'close': 0.2, 'possible': 0.2, 'agrees': 0.2, 'use': 0.2, 'adequate': 0.2, 'contraception': 0.2}\n"
          ],
          "name": "stdout"
        }
      ]
    },
    {
      "cell_type": "code",
      "metadata": {
        "colab": {
          "base_uri": "https://localhost:8080/"
        },
        "id": "Fo0OHYAWcjdd",
        "outputId": "859617c9-c645-44e1-8805-0df7a272e83b"
      },
      "source": [
        "sentence_tokens = [sent for sent in doc.sents]\r\n",
        "print(sentence_tokens)"
      ],
      "execution_count": null,
      "outputs": [
        {
          "output_type": "stream",
          "text": [
            "[\n",
            "Written informed consent for all study procedures according to local regulatory requirements prior to beginning specific protocol procedures., Complete baseline documentation must be submitted via the web-based data collection system MedCODES to the GBG Forschungs GmbH.Diagnosis of locally advanced or metastatic hormone-sensitive or insensitive, HER2-negative or -positive breast cancer., Relapse within ≤ 12 months after completing (last day of last cycle) (neo-) adjuvant chemotherapy., Documented relapse of either a measurable or a non-measurable lesion according to the modified RECIST criteria., Previous neoadjuvant or adjuvant treatment with a solvent based taxane (paclitaxel or docetaxel) irrespective of dose and duration., Prior endocrine treatment for metastatic / advanced disease is allowed., Complete radiological and clinical tumor assessment within 4 weeks prior to registration performed as clinically indicated., Age ≥ 18 years., ECOG Performance Status ≤ 2 (irrespective of restrictions due to breast cancer).Laboratory requirements:Absolute neutrophil count (ANC), >, = 1.5 x 109/L., Platelets >, = 100 x 109/L., Hemoglobin >, = 9 g, /dL (>= 5.6 mmol/L)., , Prothrombin time (PT) or international normalized ratio (INR) <= 1.2x ULN (upper normal limit), Partial thromboplastin time (PTT) <= 1.2x ULN, Total bilirubin < 1.5x ULN, ASAT (SGOT) and ALAT (SGPT), <=, 2.5x ULN (concomitant elevations in serum bilirubin and ASAT/ALAT above 1.0x, ULN are not permitted), Creatinine clearance >= 50 mL/min), Urine Protein to Creatinine Ratio (UPC), < 1 (if UPC >= 1, then 24-hour urine protein must be < 1 g).Normal cardiac function confirmed by ECG.A female either of: 1) Non-childbearing potential, i.e. physiologically incapable of becoming pregnant because of history of hysterectomy, bilateral oophorectomy (ovariectomy), bilateral tubal ligation or postmenopausal status., Childbearing potential with a negative pregnancy test (urine or serum)within 2 weeks prior to registration, preferably as close to the first dose as possible, and agrees to use adequate contraception.]\n"
          ],
          "name": "stdout"
        }
      ]
    },
    {
      "cell_type": "code",
      "metadata": {
        "colab": {
          "base_uri": "https://localhost:8080/"
        },
        "id": "8nJkTBu3dCuD",
        "outputId": "43c4713b-5072-4e19-b4a7-0349aa3e54e5"
      },
      "source": [
        "sentence_scores = {}\r\n",
        "for sent in sentence_tokens:\r\n",
        "    for word in sent:\r\n",
        "        if word.text.lower() in word_frequencies.keys():\r\n",
        "            if sent not in sentence_scores.keys():\r\n",
        "                sentence_scores[sent] = word_frequencies[word.text.lower()]\r\n",
        "            else:\r\n",
        "                sentence_scores[sent] += word_frequencies[word.text.lower()]\r\n",
        "                \r\n",
        "sentence_scores"
      ],
      "execution_count": null,
      "outputs": [
        {
          "output_type": "execute_result",
          "data": {
            "text/plain": [
              "{\n",
              " Written informed consent for all study procedures according to local regulatory requirements prior to beginning specific protocol procedures.: 3.8000000000000003,\n",
              " Complete baseline documentation must be submitted via the web-based data collection system MedCODES to the GBG Forschungs GmbH.Diagnosis of locally advanced or metastatic hormone-sensitive or insensitive, HER2-negative or -positive breast cancer.: 4.200000000000001,\n",
              " Relapse within ≤ 12 months after completing (last day of last cycle) (neo-) adjuvant chemotherapy.: 2.4,\n",
              " Documented relapse of either a measurable or a non-measurable lesion according to the modified RECIST criteria.: 2.2000000000000006,\n",
              " Previous neoadjuvant or adjuvant treatment with a solvent based taxane (paclitaxel or docetaxel) irrespective of dose and duration.: 3.2,\n",
              " Prior endocrine treatment for metastatic / advanced disease is allowed.: 2.4000000000000004,\n",
              " Complete radiological and clinical tumor assessment within 4 weeks prior to registration performed as clinically indicated.: 3.0000000000000004,\n",
              " Age ≥ 18 years.: 0.6000000000000001,\n",
              " ECOG Performance Status ≤ 2 (irrespective of restrictions due to breast cancer).Laboratory requirements:Absolute neutrophil count (ANC): 2.8000000000000003,\n",
              " = 1.5 x 109/L., Platelets >: 1.0,\n",
              " = 100 x 109/L., Hemoglobin >: 1.0,\n",
              " = 9 g: 0.4,\n",
              " /dL (>= 5.6 mmol/L).: 0.4,\n",
              " , Prothrombin time (PT) or international normalized ratio (INR) <= 1.2x ULN (upper normal limit), Partial thromboplastin time (PTT) <= 1.2x ULN, Total bilirubin < 1.5x ULN, ASAT (SGOT) and ALAT (SGPT): 3.5999999999999996,\n",
              " 2.5x ULN (concomitant elevations in serum bilirubin and ASAT/ALAT above 1.0x: 1.4000000000000001,\n",
              " ULN are not permitted), Creatinine clearance >= 50 mL/min), Urine Protein to Creatinine Ratio (UPC): 1.6,\n",
              " < 1 (if UPC >= 1, then 24-hour urine protein must be < 1 g).Normal cardiac function confirmed by ECG.A female either of: 1) Non-childbearing potential, i.e. physiologically incapable of becoming pregnant because of history of hysterectomy, bilateral oophorectomy (ovariectomy), bilateral tubal ligation or postmenopausal status.: 8.8,\n",
              " Childbearing potential with a negative pregnancy test (urine or serum)within 2 weeks prior to registration, preferably as close to the first dose as possible, and agrees to use adequate contraception.: 5.400000000000001}"
            ]
          },
          "metadata": {
            "tags": []
          },
          "execution_count": 23
        }
      ]
    },
    {
      "cell_type": "code",
      "metadata": {
        "colab": {
          "base_uri": "https://localhost:8080/"
        },
        "id": "P9GnvN5YeNiA",
        "outputId": "c307559b-c32a-4417-8153-c97ba965d840"
      },
      "source": [
        "from heapq import nlargest\r\n",
        "select_length = int(len(sentence_tokens)*0.3)\r\n",
        "select_length"
      ],
      "execution_count": null,
      "outputs": [
        {
          "output_type": "execute_result",
          "data": {
            "text/plain": [
              "6"
            ]
          },
          "metadata": {
            "tags": []
          },
          "execution_count": 24
        }
      ]
    },
    {
      "cell_type": "code",
      "metadata": {
        "id": "5ylfp57HeWrf"
      },
      "source": [
        "summary = nlargest(select_length, sentence_scores, key = sentence_scores.get)\r\n",
        "summary\r\n",
        "final_summary = [word.text for word in summary]\r\n",
        "summary = ' '.join(final_summary)"
      ],
      "execution_count": null,
      "outputs": []
    },
    {
      "cell_type": "code",
      "metadata": {
        "colab": {
          "base_uri": "https://localhost:8080/"
        },
        "id": "zLX053Xdec_c",
        "outputId": "6c1641d6-c044-497c-f16e-e4226bb70628"
      },
      "source": [
        "print(text)"
      ],
      "execution_count": null,
      "outputs": [
        {
          "output_type": "stream",
          "text": [
            "\n",
            "Written informed consent for all study procedures according to local regulatory requirements prior to beginning specific protocol procedures.Complete baseline documentation must be submitted via the web-based data collection system MedCODES to the GBG Forschungs GmbH.Diagnosis of locally advanced or metastatic hormone-sensitive or insensitive, HER2-negative or -positive breast cancer.Relapse within ≤ 12 months after completing (last day of last cycle) (neo-) adjuvant chemotherapy.Documented relapse of either a measurable or a non-measurable lesion according to the modified RECIST criteria.Previous neoadjuvant or adjuvant treatment with a solvent based taxane (paclitaxel or docetaxel) irrespective of dose and duration.Prior endocrine treatment for metastatic / advanced disease is allowed.Complete radiological and clinical tumor assessment within 4 weeks prior to registration performed as clinically indicated.Age ≥ 18 years.ECOG Performance Status ≤ 2 (irrespective of restrictions due to breast cancer).Laboratory requirements:Absolute neutrophil count (ANC) >= 1.5 x 109/L., Platelets >= 100 x 109/L., Hemoglobin >= 9 g/dL (>= 5.6 mmol/L)., Prothrombin time (PT) or international normalized ratio (INR) <= 1.2x ULN (upper normal limit), Partial thromboplastin time (PTT) <= 1.2x ULN, Total bilirubin < 1.5x ULN, ASAT (SGOT) and ALAT (SGPT) <= 2.5x ULN (concomitant elevations in serum bilirubin and ASAT/ALAT above 1.0x ULN are not permitted), Creatinine clearance >= 50 mL/min), Urine Protein to Creatinine Ratio (UPC) < 1 (if UPC >= 1, then 24-hour urine protein must be < 1 g).Normal cardiac function confirmed by ECG.A female either of: 1) Non-childbearing potential, i.e. physiologically incapable of becoming pregnant because of history of hysterectomy, bilateral oophorectomy (ovariectomy), bilateral tubal ligation or postmenopausal status. Childbearing potential with a negative pregnancy test (urine or serum)within 2 weeks prior to registration, preferably as close to the first dose as possible, and agrees to use adequate contraception.\n"
          ],
          "name": "stdout"
        }
      ]
    },
    {
      "cell_type": "code",
      "metadata": {
        "colab": {
          "base_uri": "https://localhost:8080/"
        },
        "id": "_-d2CryTeh1j",
        "outputId": "1b053bf0-c7e6-4115-f106-d7ce34e10b9d"
      },
      "source": [
        "print(summary)"
      ],
      "execution_count": null,
      "outputs": [
        {
          "output_type": "stream",
          "text": [
            "< 1 (if UPC >= 1, then 24-hour urine protein must be < 1 g).Normal cardiac function confirmed by ECG.A female either of: 1) Non-childbearing potential, i.e. physiologically incapable of becoming pregnant because of history of hysterectomy, bilateral oophorectomy (ovariectomy), bilateral tubal ligation or postmenopausal status. Childbearing potential with a negative pregnancy test (urine or serum)within 2 weeks prior to registration, preferably as close to the first dose as possible, and agrees to use adequate contraception. Complete baseline documentation must be submitted via the web-based data collection system MedCODES to the GBG Forschungs GmbH.Diagnosis of locally advanced or metastatic hormone-sensitive or insensitive, HER2-negative or -positive breast cancer. \n",
            "Written informed consent for all study procedures according to local regulatory requirements prior to beginning specific protocol procedures. , Prothrombin time (PT) or international normalized ratio (INR) <= 1.2x ULN (upper normal limit), Partial thromboplastin time (PTT) <= 1.2x ULN, Total bilirubin < 1.5x ULN, ASAT (SGOT) and ALAT (SGPT) Previous neoadjuvant or adjuvant treatment with a solvent based taxane (paclitaxel or docetaxel) irrespective of dose and duration.\n"
          ],
          "name": "stdout"
        }
      ]
    },
    {
      "cell_type": "code",
      "metadata": {
        "colab": {
          "base_uri": "https://localhost:8080/"
        },
        "id": "XMlaRO7Kekb7",
        "outputId": "f8c654dd-208c-4556-f431-9d6c859bd83a"
      },
      "source": [
        "len(text)"
      ],
      "execution_count": null,
      "outputs": [
        {
          "output_type": "execute_result",
          "data": {
            "text/plain": [
              "2064"
            ]
          },
          "metadata": {
            "tags": []
          },
          "execution_count": 28
        }
      ]
    },
    {
      "cell_type": "code",
      "metadata": {
        "colab": {
          "base_uri": "https://localhost:8080/"
        },
        "id": "Yt4yT3sFen8H",
        "outputId": "143817b5-134f-47ff-dd46-fad7f304879b"
      },
      "source": [
        "len(summary)\r\n"
      ],
      "execution_count": null,
      "outputs": [
        {
          "output_type": "execute_result",
          "data": {
            "text/plain": [
              "1252"
            ]
          },
          "metadata": {
            "tags": []
          },
          "execution_count": 29
        }
      ]
    }
  ]
}